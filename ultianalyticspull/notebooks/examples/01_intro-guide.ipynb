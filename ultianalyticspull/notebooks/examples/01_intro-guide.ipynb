{
 "cells": [
  {
   "cell_type": "markdown",
   "metadata": {
    "slideshow": {
     "slide_type": "slide"
    }
   },
   "source": [
    "# Intro Guide"
   ]
  },
  {
   "cell_type": "markdown",
   "metadata": {
    "slideshow": {
     "slide_type": "slide"
    }
   },
   "source": [
    "The output of `audl-pull.py` are files of comma-separated values (CSV).\n",
    "The Pandas library is an elegant and powerful tool to explore these data."
   ]
  },
  {
   "cell_type": "code",
   "execution_count": 1,
   "metadata": {
    "slideshow": {
     "slide_type": "fragment"
    }
   },
   "outputs": [],
   "source": [
    "import pandas as pd"
   ]
  },
  {
   "cell_type": "markdown",
   "metadata": {
    "slideshow": {
     "slide_type": "slide"
    }
   },
   "source": [
    "To read a single CSV with the Pandas, use `read_csv`. This returns a `DataFrame` object. \n",
    "\n",
    "Let's read in the Madison Radicals' 2018 championship season!"
   ]
  },
  {
   "cell_type": "code",
   "execution_count": 2,
   "metadata": {
    "slideshow": {
     "slide_type": "fragment"
    }
   },
   "outputs": [],
   "source": [
    "mad2018 = pd.read_csv('../../data/processed/2018/2018_MadisonRadicals.csv', index_col=0)"
   ]
  },
  {
   "cell_type": "markdown",
   "metadata": {
    "slideshow": {
     "slide_type": "fragment"
    }
   },
   "source": [
    "The first column (column 0) of the CSV is the row number, so we set that as the index column (`index_col`). "
   ]
  },
  {
   "cell_type": "markdown",
   "metadata": {
    "slideshow": {
     "slide_type": "slide"
    }
   },
   "source": [
    "The `head()` function reveals the first five rows of the DataFrame. Each row is a game event.\n",
    "Each game is time-ordered."
   ]
  },
  {
   "cell_type": "code",
   "execution_count": 3,
   "metadata": {
    "slideshow": {
     "slide_type": "fragment"
    }
   },
   "outputs": [
    {
     "data": {
      "text/html": [
       "<div>\n",
       "<style>\n",
       "    .dataframe thead tr:only-child th {\n",
       "        text-align: right;\n",
       "    }\n",
       "\n",
       "    .dataframe thead th {\n",
       "        text-align: left;\n",
       "    }\n",
       "\n",
       "    .dataframe tbody tr th {\n",
       "        vertical-align: top;\n",
       "    }\n",
       "</style>\n",
       "<table border=\"1\" class=\"dataframe\">\n",
       "  <thead>\n",
       "    <tr style=\"text-align: right;\">\n",
       "      <th></th>\n",
       "      <th>Date/Time</th>\n",
       "      <th>Opponent</th>\n",
       "      <th>Point Elapsed Seconds</th>\n",
       "      <th>Line</th>\n",
       "      <th>Our Score - End of Point</th>\n",
       "      <th>Their Score - End of Point</th>\n",
       "      <th>Event Type</th>\n",
       "      <th>Action</th>\n",
       "      <th>Passer</th>\n",
       "      <th>Receiver</th>\n",
       "      <th>...</th>\n",
       "      <th>Begin Y</th>\n",
       "      <th>End Area</th>\n",
       "      <th>End X</th>\n",
       "      <th>End Y</th>\n",
       "      <th>Distance Unit of Measure</th>\n",
       "      <th>Absolute Distance</th>\n",
       "      <th>Lateral Distance</th>\n",
       "      <th>Toward Our Goal Distance</th>\n",
       "      <th>Teamname</th>\n",
       "      <th>Tournament</th>\n",
       "    </tr>\n",
       "  </thead>\n",
       "  <tbody>\n",
       "    <tr>\n",
       "      <th>0</th>\n",
       "      <td>2018-04-07 19:38</td>\n",
       "      <td>Indianapolis AlleyCats</td>\n",
       "      <td>44</td>\n",
       "      <td>O</td>\n",
       "      <td>1</td>\n",
       "      <td>0</td>\n",
       "      <td>Offense</td>\n",
       "      <td>Catch</td>\n",
       "      <td>Nelson</td>\n",
       "      <td>K Brown</td>\n",
       "      <td>...</td>\n",
       "      <td>NaN</td>\n",
       "      <td>NaN</td>\n",
       "      <td>NaN</td>\n",
       "      <td>NaN</td>\n",
       "      <td>NaN</td>\n",
       "      <td>NaN</td>\n",
       "      <td>NaN</td>\n",
       "      <td>NaN</td>\n",
       "      <td>Madison Radicals</td>\n",
       "      <td>AUDL 2018</td>\n",
       "    </tr>\n",
       "    <tr>\n",
       "      <th>1</th>\n",
       "      <td>2018-04-07 19:38</td>\n",
       "      <td>Indianapolis AlleyCats</td>\n",
       "      <td>44</td>\n",
       "      <td>O</td>\n",
       "      <td>1</td>\n",
       "      <td>0</td>\n",
       "      <td>Offense</td>\n",
       "      <td>Catch</td>\n",
       "      <td>K Brown</td>\n",
       "      <td>Nelson</td>\n",
       "      <td>...</td>\n",
       "      <td>NaN</td>\n",
       "      <td>NaN</td>\n",
       "      <td>NaN</td>\n",
       "      <td>NaN</td>\n",
       "      <td>NaN</td>\n",
       "      <td>NaN</td>\n",
       "      <td>NaN</td>\n",
       "      <td>NaN</td>\n",
       "      <td>Madison Radicals</td>\n",
       "      <td>AUDL 2018</td>\n",
       "    </tr>\n",
       "    <tr>\n",
       "      <th>2</th>\n",
       "      <td>2018-04-07 19:38</td>\n",
       "      <td>Indianapolis AlleyCats</td>\n",
       "      <td>44</td>\n",
       "      <td>O</td>\n",
       "      <td>1</td>\n",
       "      <td>0</td>\n",
       "      <td>Offense</td>\n",
       "      <td>Catch</td>\n",
       "      <td>Nelson</td>\n",
       "      <td>Animal</td>\n",
       "      <td>...</td>\n",
       "      <td>NaN</td>\n",
       "      <td>NaN</td>\n",
       "      <td>NaN</td>\n",
       "      <td>NaN</td>\n",
       "      <td>NaN</td>\n",
       "      <td>NaN</td>\n",
       "      <td>NaN</td>\n",
       "      <td>NaN</td>\n",
       "      <td>Madison Radicals</td>\n",
       "      <td>AUDL 2018</td>\n",
       "    </tr>\n",
       "    <tr>\n",
       "      <th>3</th>\n",
       "      <td>2018-04-07 19:38</td>\n",
       "      <td>Indianapolis AlleyCats</td>\n",
       "      <td>44</td>\n",
       "      <td>O</td>\n",
       "      <td>1</td>\n",
       "      <td>0</td>\n",
       "      <td>Offense</td>\n",
       "      <td>Catch</td>\n",
       "      <td>Animal</td>\n",
       "      <td>Shriwise</td>\n",
       "      <td>...</td>\n",
       "      <td>NaN</td>\n",
       "      <td>NaN</td>\n",
       "      <td>NaN</td>\n",
       "      <td>NaN</td>\n",
       "      <td>NaN</td>\n",
       "      <td>NaN</td>\n",
       "      <td>NaN</td>\n",
       "      <td>NaN</td>\n",
       "      <td>Madison Radicals</td>\n",
       "      <td>AUDL 2018</td>\n",
       "    </tr>\n",
       "    <tr>\n",
       "      <th>4</th>\n",
       "      <td>2018-04-07 19:38</td>\n",
       "      <td>Indianapolis AlleyCats</td>\n",
       "      <td>44</td>\n",
       "      <td>O</td>\n",
       "      <td>1</td>\n",
       "      <td>0</td>\n",
       "      <td>Offense</td>\n",
       "      <td>Catch</td>\n",
       "      <td>Shriwise</td>\n",
       "      <td>K Brown</td>\n",
       "      <td>...</td>\n",
       "      <td>NaN</td>\n",
       "      <td>NaN</td>\n",
       "      <td>NaN</td>\n",
       "      <td>NaN</td>\n",
       "      <td>NaN</td>\n",
       "      <td>NaN</td>\n",
       "      <td>NaN</td>\n",
       "      <td>NaN</td>\n",
       "      <td>Madison Radicals</td>\n",
       "      <td>AUDL 2018</td>\n",
       "    </tr>\n",
       "  </tbody>\n",
       "</table>\n",
       "<p>5 rows × 53 columns</p>\n",
       "</div>"
      ],
      "text/plain": [
       "          Date/Time                Opponent  Point Elapsed Seconds Line  \\\n",
       "0  2018-04-07 19:38  Indianapolis AlleyCats                     44    O   \n",
       "1  2018-04-07 19:38  Indianapolis AlleyCats                     44    O   \n",
       "2  2018-04-07 19:38  Indianapolis AlleyCats                     44    O   \n",
       "3  2018-04-07 19:38  Indianapolis AlleyCats                     44    O   \n",
       "4  2018-04-07 19:38  Indianapolis AlleyCats                     44    O   \n",
       "\n",
       "   Our Score - End of Point  Their Score - End of Point Event Type Action  \\\n",
       "0                         1                           0    Offense  Catch   \n",
       "1                         1                           0    Offense  Catch   \n",
       "2                         1                           0    Offense  Catch   \n",
       "3                         1                           0    Offense  Catch   \n",
       "4                         1                           0    Offense  Catch   \n",
       "\n",
       "     Passer  Receiver    ...     Begin Y  End Area End X End Y  \\\n",
       "0    Nelson   K Brown    ...         NaN       NaN   NaN   NaN   \n",
       "1   K Brown    Nelson    ...         NaN       NaN   NaN   NaN   \n",
       "2    Nelson    Animal    ...         NaN       NaN   NaN   NaN   \n",
       "3    Animal  Shriwise    ...         NaN       NaN   NaN   NaN   \n",
       "4  Shriwise   K Brown    ...         NaN       NaN   NaN   NaN   \n",
       "\n",
       "  Distance Unit of Measure Absolute Distance Lateral Distance  \\\n",
       "0                      NaN               NaN              NaN   \n",
       "1                      NaN               NaN              NaN   \n",
       "2                      NaN               NaN              NaN   \n",
       "3                      NaN               NaN              NaN   \n",
       "4                      NaN               NaN              NaN   \n",
       "\n",
       "  Toward Our Goal Distance          Teamname Tournament  \n",
       "0                      NaN  Madison Radicals  AUDL 2018  \n",
       "1                      NaN  Madison Radicals  AUDL 2018  \n",
       "2                      NaN  Madison Radicals  AUDL 2018  \n",
       "3                      NaN  Madison Radicals  AUDL 2018  \n",
       "4                      NaN  Madison Radicals  AUDL 2018  \n",
       "\n",
       "[5 rows x 53 columns]"
      ]
     },
     "execution_count": 3,
     "metadata": {},
     "output_type": "execute_result"
    }
   ],
   "source": [
    "mad2018.head()"
   ]
  },
  {
   "cell_type": "markdown",
   "metadata": {
    "slideshow": {
     "slide_type": "slide"
    }
   },
   "source": [
    "The DataFrame has columns that describe each game event."
   ]
  },
  {
   "cell_type": "code",
   "execution_count": 4,
   "metadata": {
    "slideshow": {
     "slide_type": "fragment"
    }
   },
   "outputs": [
    {
     "data": {
      "text/plain": [
       "Index(['Date/Time', 'Opponent', 'Point Elapsed Seconds', 'Line',\n",
       "       'Our Score - End of Point', 'Their Score - End of Point', 'Event Type',\n",
       "       'Action', 'Passer', 'Receiver', 'Defender', 'Hang Time (secs)',\n",
       "       'Player 0', 'Player 1', 'Player 2', 'Player 3', 'Player 4', 'Player 5',\n",
       "       'Player 6', 'Player 7', 'Player 8', 'Player 9', 'Player 10',\n",
       "       'Player 11', 'Player 12', 'Player 13', 'Player 14', 'Player 15',\n",
       "       'Player 16', 'Player 17', 'Player 18', 'Player 19', 'Player 20',\n",
       "       'Player 21', 'Player 22', 'Player 23', 'Player 24', 'Player 25',\n",
       "       'Player 26', 'Player 27', 'Elapsed Time (secs)', 'Begin Area',\n",
       "       'Begin X', 'Begin Y', 'End Area', 'End X', 'End Y',\n",
       "       'Distance Unit of Measure', 'Absolute Distance', 'Lateral Distance',\n",
       "       'Toward Our Goal Distance', 'Teamname', 'Tournament'],\n",
       "      dtype='object')"
      ]
     },
     "execution_count": 4,
     "metadata": {},
     "output_type": "execute_result"
    }
   ],
   "source": [
    "mad2018.columns"
   ]
  },
  {
   "cell_type": "markdown",
   "metadata": {
    "slideshow": {
     "slide_type": "slide"
    }
   },
   "source": [
    "Individual columns can be selected..."
   ]
  },
  {
   "cell_type": "code",
   "execution_count": 5,
   "metadata": {
    "slideshow": {
     "slide_type": "fragment"
    }
   },
   "outputs": [
    {
     "data": {
      "text/plain": [
       "0    Catch\n",
       "1    Catch\n",
       "2    Catch\n",
       "3    Catch\n",
       "4    Catch\n",
       "Name: Action, dtype: object"
      ]
     },
     "execution_count": 5,
     "metadata": {},
     "output_type": "execute_result"
    }
   ],
   "source": [
    "actions = mad2018.Action\n",
    "actions[:5]"
   ]
  },
  {
   "cell_type": "markdown",
   "metadata": {
    "slideshow": {
     "slide_type": "subslide"
    }
   },
   "source": [
    "...and attributes of those columns can be found."
   ]
  },
  {
   "cell_type": "code",
   "execution_count": 6,
   "metadata": {
    "slideshow": {
     "slide_type": "fragment"
    }
   },
   "outputs": [
    {
     "data": {
      "text/plain": [
       "array(['Catch', 'Goal', 'Pull', 'D', 'Throwaway', 'EndOfFirstQuarter',\n",
       "       'PullOb', 'Halftime', 'Stall', 'EndOfThirdQuarter', 'Drop',\n",
       "       'GameOver'], dtype=object)"
      ]
     },
     "execution_count": 6,
     "metadata": {},
     "output_type": "execute_result"
    }
   ],
   "source": [
    "actions.unique()"
   ]
  },
  {
   "cell_type": "markdown",
   "metadata": {
    "slideshow": {
     "slide_type": "fragment"
    }
   },
   "source": [
    "`unique` is useful when you want to know the values that a column can contain."
   ]
  },
  {
   "cell_type": "code",
   "execution_count": 7,
   "metadata": {
    "slideshow": {
     "slide_type": "fragment"
    }
   },
   "outputs": [
    {
     "data": {
      "text/plain": [
       "Catch                3966\n",
       "Goal                  722\n",
       "Throwaway             421\n",
       "Pull                  413\n",
       "D                     238\n",
       "Drop                   61\n",
       "PullOb                 34\n",
       "EndOfThirdQuarter      17\n",
       "GameOver               17\n",
       "EndOfFirstQuarter      17\n",
       "Halftime               17\n",
       "Stall                   7\n",
       "Name: Action, dtype: int64"
      ]
     },
     "execution_count": 7,
     "metadata": {},
     "output_type": "execute_result"
    }
   ],
   "source": [
    "actions.value_counts()"
   ]
  },
  {
   "cell_type": "markdown",
   "metadata": {
    "slideshow": {
     "slide_type": "fragment"
    }
   },
   "source": [
    "`value_counts` takes this a step further and provides the number of occurrences."
   ]
  },
  {
   "cell_type": "markdown",
   "metadata": {
    "slideshow": {
     "slide_type": "slide"
    }
   },
   "source": [
    "Furthermore, we can find subsets of the DataFrame that interest us.\n",
    "\n",
    "Say... actions in games against their rivals the Minnesota Wind Chill"
   ]
  },
  {
   "cell_type": "code",
   "execution_count": 16,
   "metadata": {},
   "outputs": [
    {
     "data": {
      "text/html": [
       "<div>\n",
       "<style>\n",
       "    .dataframe thead tr:only-child th {\n",
       "        text-align: right;\n",
       "    }\n",
       "\n",
       "    .dataframe thead th {\n",
       "        text-align: left;\n",
       "    }\n",
       "\n",
       "    .dataframe tbody tr th {\n",
       "        vertical-align: top;\n",
       "    }\n",
       "</style>\n",
       "<table border=\"1\" class=\"dataframe\">\n",
       "  <thead>\n",
       "    <tr style=\"text-align: right;\">\n",
       "      <th></th>\n",
       "      <th>Date/Time</th>\n",
       "      <th>Opponent</th>\n",
       "      <th>Point Elapsed Seconds</th>\n",
       "      <th>Line</th>\n",
       "      <th>Our Score - End of Point</th>\n",
       "      <th>Their Score - End of Point</th>\n",
       "      <th>Event Type</th>\n",
       "      <th>Action</th>\n",
       "      <th>Passer</th>\n",
       "      <th>Receiver</th>\n",
       "      <th>...</th>\n",
       "      <th>Begin Y</th>\n",
       "      <th>End Area</th>\n",
       "      <th>End X</th>\n",
       "      <th>End Y</th>\n",
       "      <th>Distance Unit of Measure</th>\n",
       "      <th>Absolute Distance</th>\n",
       "      <th>Lateral Distance</th>\n",
       "      <th>Toward Our Goal Distance</th>\n",
       "      <th>Teamname</th>\n",
       "      <th>Tournament</th>\n",
       "    </tr>\n",
       "  </thead>\n",
       "  <tbody>\n",
       "    <tr>\n",
       "      <th>976</th>\n",
       "      <td>2018-05-05 15:25</td>\n",
       "      <td>Minnesota Wind Chill</td>\n",
       "      <td>45</td>\n",
       "      <td>O</td>\n",
       "      <td>1</td>\n",
       "      <td>0</td>\n",
       "      <td>Offense</td>\n",
       "      <td>Catch</td>\n",
       "      <td>K Brown</td>\n",
       "      <td>A Brown</td>\n",
       "      <td>...</td>\n",
       "      <td>NaN</td>\n",
       "      <td>NaN</td>\n",
       "      <td>NaN</td>\n",
       "      <td>NaN</td>\n",
       "      <td>NaN</td>\n",
       "      <td>NaN</td>\n",
       "      <td>NaN</td>\n",
       "      <td>NaN</td>\n",
       "      <td>Madison Radicals</td>\n",
       "      <td>AUDL 2018</td>\n",
       "    </tr>\n",
       "    <tr>\n",
       "      <th>977</th>\n",
       "      <td>2018-05-05 15:25</td>\n",
       "      <td>Minnesota Wind Chill</td>\n",
       "      <td>45</td>\n",
       "      <td>O</td>\n",
       "      <td>1</td>\n",
       "      <td>0</td>\n",
       "      <td>Offense</td>\n",
       "      <td>Catch</td>\n",
       "      <td>A Brown</td>\n",
       "      <td>Shriwise</td>\n",
       "      <td>...</td>\n",
       "      <td>NaN</td>\n",
       "      <td>NaN</td>\n",
       "      <td>NaN</td>\n",
       "      <td>NaN</td>\n",
       "      <td>NaN</td>\n",
       "      <td>NaN</td>\n",
       "      <td>NaN</td>\n",
       "      <td>NaN</td>\n",
       "      <td>Madison Radicals</td>\n",
       "      <td>AUDL 2018</td>\n",
       "    </tr>\n",
       "    <tr>\n",
       "      <th>978</th>\n",
       "      <td>2018-05-05 15:25</td>\n",
       "      <td>Minnesota Wind Chill</td>\n",
       "      <td>45</td>\n",
       "      <td>O</td>\n",
       "      <td>1</td>\n",
       "      <td>0</td>\n",
       "      <td>Offense</td>\n",
       "      <td>Catch</td>\n",
       "      <td>Shriwise</td>\n",
       "      <td>Akyuz</td>\n",
       "      <td>...</td>\n",
       "      <td>NaN</td>\n",
       "      <td>NaN</td>\n",
       "      <td>NaN</td>\n",
       "      <td>NaN</td>\n",
       "      <td>NaN</td>\n",
       "      <td>NaN</td>\n",
       "      <td>NaN</td>\n",
       "      <td>NaN</td>\n",
       "      <td>Madison Radicals</td>\n",
       "      <td>AUDL 2018</td>\n",
       "    </tr>\n",
       "    <tr>\n",
       "      <th>979</th>\n",
       "      <td>2018-05-05 15:25</td>\n",
       "      <td>Minnesota Wind Chill</td>\n",
       "      <td>45</td>\n",
       "      <td>O</td>\n",
       "      <td>1</td>\n",
       "      <td>0</td>\n",
       "      <td>Offense</td>\n",
       "      <td>Catch</td>\n",
       "      <td>Akyuz</td>\n",
       "      <td>Johnson</td>\n",
       "      <td>...</td>\n",
       "      <td>NaN</td>\n",
       "      <td>NaN</td>\n",
       "      <td>NaN</td>\n",
       "      <td>NaN</td>\n",
       "      <td>NaN</td>\n",
       "      <td>NaN</td>\n",
       "      <td>NaN</td>\n",
       "      <td>NaN</td>\n",
       "      <td>Madison Radicals</td>\n",
       "      <td>AUDL 2018</td>\n",
       "    </tr>\n",
       "    <tr>\n",
       "      <th>980</th>\n",
       "      <td>2018-05-05 15:25</td>\n",
       "      <td>Minnesota Wind Chill</td>\n",
       "      <td>45</td>\n",
       "      <td>O</td>\n",
       "      <td>1</td>\n",
       "      <td>0</td>\n",
       "      <td>Offense</td>\n",
       "      <td>Catch</td>\n",
       "      <td>Johnson</td>\n",
       "      <td>A Brown</td>\n",
       "      <td>...</td>\n",
       "      <td>NaN</td>\n",
       "      <td>NaN</td>\n",
       "      <td>NaN</td>\n",
       "      <td>NaN</td>\n",
       "      <td>NaN</td>\n",
       "      <td>NaN</td>\n",
       "      <td>NaN</td>\n",
       "      <td>NaN</td>\n",
       "      <td>Madison Radicals</td>\n",
       "      <td>AUDL 2018</td>\n",
       "    </tr>\n",
       "  </tbody>\n",
       "</table>\n",
       "<p>5 rows × 53 columns</p>\n",
       "</div>"
      ],
      "text/plain": [
       "            Date/Time              Opponent  Point Elapsed Seconds Line  \\\n",
       "976  2018-05-05 15:25  Minnesota Wind Chill                     45    O   \n",
       "977  2018-05-05 15:25  Minnesota Wind Chill                     45    O   \n",
       "978  2018-05-05 15:25  Minnesota Wind Chill                     45    O   \n",
       "979  2018-05-05 15:25  Minnesota Wind Chill                     45    O   \n",
       "980  2018-05-05 15:25  Minnesota Wind Chill                     45    O   \n",
       "\n",
       "     Our Score - End of Point  Their Score - End of Point Event Type Action  \\\n",
       "976                         1                           0    Offense  Catch   \n",
       "977                         1                           0    Offense  Catch   \n",
       "978                         1                           0    Offense  Catch   \n",
       "979                         1                           0    Offense  Catch   \n",
       "980                         1                           0    Offense  Catch   \n",
       "\n",
       "       Passer  Receiver    ...     Begin Y  End Area End X End Y  \\\n",
       "976   K Brown   A Brown    ...         NaN       NaN   NaN   NaN   \n",
       "977   A Brown  Shriwise    ...         NaN       NaN   NaN   NaN   \n",
       "978  Shriwise     Akyuz    ...         NaN       NaN   NaN   NaN   \n",
       "979     Akyuz   Johnson    ...         NaN       NaN   NaN   NaN   \n",
       "980   Johnson   A Brown    ...         NaN       NaN   NaN   NaN   \n",
       "\n",
       "    Distance Unit of Measure Absolute Distance Lateral Distance  \\\n",
       "976                      NaN               NaN              NaN   \n",
       "977                      NaN               NaN              NaN   \n",
       "978                      NaN               NaN              NaN   \n",
       "979                      NaN               NaN              NaN   \n",
       "980                      NaN               NaN              NaN   \n",
       "\n",
       "    Toward Our Goal Distance          Teamname Tournament  \n",
       "976                      NaN  Madison Radicals  AUDL 2018  \n",
       "977                      NaN  Madison Radicals  AUDL 2018  \n",
       "978                      NaN  Madison Radicals  AUDL 2018  \n",
       "979                      NaN  Madison Radicals  AUDL 2018  \n",
       "980                      NaN  Madison Radicals  AUDL 2018  \n",
       "\n",
       "[5 rows x 53 columns]"
      ]
     },
     "execution_count": 16,
     "metadata": {},
     "output_type": "execute_result"
    }
   ],
   "source": [
    "mad2018[ mad2018.Opponent == 'Minnesota Wind Chill'].head()"
   ]
  },
  {
   "cell_type": "markdown",
   "metadata": {
    "slideshow": {
     "slide_type": "slide"
    }
   },
   "source": [
    "But why read in a single CSV... when you can have it all?!?\n",
    "\n",
    "The `glob` library is convenient for getting filenames using the wildcard (`*`) operator."
   ]
  },
  {
   "cell_type": "code",
   "execution_count": 10,
   "metadata": {
    "slideshow": {
     "slide_type": "fragment"
    }
   },
   "outputs": [
    {
     "data": {
      "text/plain": [
       "['../output/AUDL2014_MadisonRadicals.csv',\n",
       " '../output/AUDL2016_PittsburghThunderbirds.csv',\n",
       " '../output/AUDL2018_ChicagoWildfire.csv',\n",
       " '../output/AUDL2018_DallasRoughnecks.csv',\n",
       " '../output/AUDL2018_IndianapolisAlleyCats.csv']"
      ]
     },
     "execution_count": 10,
     "metadata": {},
     "output_type": "execute_result"
    }
   ],
   "source": [
    "import glob\n",
    "\n",
    "all_audl_files = glob.glob('../../data/processed/*/*.csv')\n",
    "sorted(all_audl_files[:5])"
   ]
  },
  {
   "cell_type": "markdown",
   "metadata": {
    "slideshow": {
     "slide_type": "subslide"
    }
   },
   "source": [
    "Let's read each file using the `read_csv` function and `index_col` option...\n",
    "\n",
    "But because we are Python badasses, let's put that for-loop in a single line, so that each resulting DataFrame is in a list."
   ]
  },
  {
   "cell_type": "code",
   "execution_count": 11,
   "metadata": {
    "slideshow": {
     "slide_type": "fragment"
    }
   },
   "outputs": [],
   "source": [
    "df_list = [pd.read_csv(dfteam, index_col=0) for dfteam in glob.glob('../../data/processed/*/*.csv')]"
   ]
  },
  {
   "cell_type": "markdown",
   "metadata": {
    "slideshow": {
     "slide_type": "subslide"
    }
   },
   "source": [
    "Using Pandas, we can concatenate (\"smush together\") all the DataFrames in to one!"
   ]
  },
  {
   "cell_type": "code",
   "execution_count": 12,
   "metadata": {
    "slideshow": {
     "slide_type": "fragment"
    }
   },
   "outputs": [],
   "source": [
    "audl = pd.concat(df_list)"
   ]
  },
  {
   "cell_type": "markdown",
   "metadata": {
    "slideshow": {
     "slide_type": "fragment"
    }
   },
   "source": [
    "What can we do we this monstrosity of data, you may ask. Well, just about anything!\n",
    "\n",
    "There are far too many useful functions in Pandas to highlight here - nor could I do them justice as others have.\n",
    "\n",
    "However, this should start to get your brain whirring over the possibilities in turning questions into answers with Pandas and the right data in hand."
   ]
  }
 ],
 "metadata": {
  "kernelspec": {
   "display_name": "Python 3",
   "language": "python",
   "name": "python3"
  },
  "language_info": {
   "codemirror_mode": {
    "name": "ipython",
    "version": 3
   },
   "file_extension": ".py",
   "mimetype": "text/x-python",
   "name": "python",
   "nbconvert_exporter": "python",
   "pygments_lexer": "ipython3",
   "version": "3.6.7"
  }
 },
 "nbformat": 4,
 "nbformat_minor": 2
}
