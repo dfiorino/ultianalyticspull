{
 "cells": [
  {
   "cell_type": "code",
   "execution_count": 1,
   "metadata": {},
   "outputs": [],
   "source": [
    "!export PYTHONPATH=\"/Users/fiorino/anaconda3/envs/ultimate/lib/python3.7/site-packages/\"\n",
    "\n",
    "from ultianalyticspull import pullers\n",
    "from ultianalyticspull import huddlers"
   ]
  },
  {
   "cell_type": "markdown",
   "metadata": {},
   "source": [
    "# Investigate the Pro Leagues"
   ]
  },
  {
   "cell_type": "markdown",
   "metadata": {},
   "source": [
    "## PUL"
   ]
  },
  {
   "cell_type": "code",
   "execution_count": 2,
   "metadata": {},
   "outputs": [],
   "source": [
    "pul_pull = pullers.LeaguePuller(league = 'pul', years=[2019])"
   ]
  },
  {
   "cell_type": "code",
   "execution_count": 3,
   "metadata": {},
   "outputs": [
    {
     "name": "stdout",
     "output_type": "stream",
     "text": [
      "2019 Atlanta Soul\n",
      "2019 Austin Torch\n",
      "2019 Columbus Pride\n",
      "2019 Indy Red\n",
      "2019 Medellin Revolution\n",
      "2019 Nashville Nightshade\n",
      "2019 New York Gridlock\n",
      "2019 Raleigh Radiance\n"
     ]
    }
   ],
   "source": [
    "pul_pull.pull()"
   ]
  },
  {
   "cell_type": "markdown",
   "metadata": {},
   "source": [
    "## AUDL"
   ]
  },
  {
   "cell_type": "code",
   "execution_count": 7,
   "metadata": {},
   "outputs": [],
   "source": [
    "audl_pull = pullers.LeaguePuller(league = 'audl', years=range(2014,2020))"
   ]
  },
  {
   "cell_type": "code",
   "execution_count": 10,
   "metadata": {},
   "outputs": [],
   "source": [
    "audl_pull.pull()"
   ]
  },
  {
   "cell_type": "markdown",
   "metadata": {},
   "source": [
    "# Investigate your own team!"
   ]
  },
  {
   "cell_type": "code",
   "execution_count": 18,
   "metadata": {},
   "outputs": [],
   "source": [
    "team_number='6305900843237376'\n",
    "team_name='MSP'\n",
    "year=2019\n",
    "output_dir='/Users/fiorino/Downloads/'\n",
    "custom_pull = pullers.UltiAnalyticsPuller(team_number,team_name,year,output_dir)\n",
    "custom_pull.pull()"
   ]
  },
  {
   "cell_type": "code",
   "execution_count": 19,
   "metadata": {},
   "outputs": [],
   "source": [
    "custom_pull_df = custom_pull.get_enhanced_dataframe()"
   ]
  },
  {
   "cell_type": "code",
   "execution_count": 20,
   "metadata": {},
   "outputs": [
    {
     "data": {
      "text/plain": [
       "Tristan    23\n",
       "Roske      19\n",
       "Kens       10\n",
       "Ruda        9\n",
       "Brad        8\n",
       "Name: Passer, dtype: int64"
      ]
     },
     "execution_count": 20,
     "metadata": {},
     "output_type": "execute_result"
    }
   ],
   "source": [
    "custom_pull_df[(custom_pull_df.Action=='Goal')].Passer.value_counts()[:5]"
   ]
  },
  {
   "cell_type": "code",
   "execution_count": 22,
   "metadata": {},
   "outputs": [
    {
     "data": {
      "text/plain": [
       "Brad     16\n",
       "Dani     11\n",
       "Mo       10\n",
       "Roske     9\n",
       "EA        9\n",
       "Name: Receiver, dtype: int64"
      ]
     },
     "execution_count": 22,
     "metadata": {},
     "output_type": "execute_result"
    }
   ],
   "source": [
    "custom_pull_df[(custom_pull_df.Action=='Goal')].Receiver.value_counts()[:5]"
   ]
  },
  {
   "cell_type": "code",
   "execution_count": 24,
   "metadata": {},
   "outputs": [
    {
     "data": {
      "text/plain": [
       "Tristan    16\n",
       "Tanner     10\n",
       "Joe         8\n",
       "Bo          7\n",
       "Mo          6\n",
       "Name: Defender, dtype: int64"
      ]
     },
     "execution_count": 24,
     "metadata": {},
     "output_type": "execute_result"
    }
   ],
   "source": [
    "custom_pull_df[(custom_pull_df.Action=='D')].Defender.value_counts()[:5]"
   ]
  },
  {
   "cell_type": "code",
   "execution_count": 25,
   "metadata": {},
   "outputs": [
    {
     "data": {
      "text/plain": [
       "69"
      ]
     },
     "execution_count": 25,
     "metadata": {},
     "output_type": "execute_result"
    }
   ],
   "source": [
    "custom_pull_df[custom_pull_df.Lineup.str.contains('EA')].groupby(['GameID','PointID']).ngroups"
   ]
  },
  {
   "cell_type": "code",
   "execution_count": 26,
   "metadata": {},
   "outputs": [
    {
     "data": {
      "text/plain": [
       "Brad     6\n",
       "Roske    3\n",
       "Vandy    3\n",
       "Bekah    3\n",
       "Max      1\n",
       "Name: Receiver, dtype: int64"
      ]
     },
     "execution_count": 26,
     "metadata": {},
     "output_type": "execute_result"
    }
   ],
   "source": [
    "custom_pull_df[(custom_pull_df.Passer=='Tristan')&(custom_pull_df.Action=='Goal')].Receiver.value_counts()[:5]"
   ]
  },
  {
   "cell_type": "markdown",
   "metadata": {},
   "source": [
    "# Compile aggregate stats with the Huddler"
   ]
  },
  {
   "cell_type": "code",
   "execution_count": 28,
   "metadata": {},
   "outputs": [
    {
     "data": {
      "text/html": [
       "<div>\n",
       "<style scoped>\n",
       "    .dataframe tbody tr th:only-of-type {\n",
       "        vertical-align: middle;\n",
       "    }\n",
       "\n",
       "    .dataframe tbody tr th {\n",
       "        vertical-align: top;\n",
       "    }\n",
       "\n",
       "    .dataframe thead th {\n",
       "        text-align: right;\n",
       "    }\n",
       "</style>\n",
       "<table border=\"1\" class=\"dataframe\">\n",
       "  <thead>\n",
       "    <tr style=\"text-align: right;\">\n",
       "      <th></th>\n",
       "      <th>Date/Time</th>\n",
       "      <th>Opponent</th>\n",
       "      <th>Point Elapsed Seconds</th>\n",
       "      <th>Line</th>\n",
       "      <th>Our Score - End of Point</th>\n",
       "      <th>Their Score - End of Point</th>\n",
       "      <th>Event Type</th>\n",
       "      <th>Action</th>\n",
       "      <th>Passer</th>\n",
       "      <th>Receiver</th>\n",
       "      <th>Defender</th>\n",
       "      <th>Hang Time (secs)</th>\n",
       "    </tr>\n",
       "  </thead>\n",
       "  <tbody>\n",
       "    <tr>\n",
       "      <th>6</th>\n",
       "      <td>2019-06-22 08:52</td>\n",
       "      <td>Rust</td>\n",
       "      <td>150</td>\n",
       "      <td>D</td>\n",
       "      <td>1</td>\n",
       "      <td>0</td>\n",
       "      <td>Offense</td>\n",
       "      <td>Goal</td>\n",
       "      <td>Kens</td>\n",
       "      <td>Kelsey M</td>\n",
       "      <td>NaN</td>\n",
       "      <td>NaN</td>\n",
       "    </tr>\n",
       "  </tbody>\n",
       "</table>\n",
       "</div>"
      ],
      "text/plain": [
       "          Date/Time Opponent  Point Elapsed Seconds Line  \\\n",
       "6  2019-06-22 08:52     Rust                    150    D   \n",
       "\n",
       "   Our Score - End of Point  Their Score - End of Point Event Type Action  \\\n",
       "6                         1                           0    Offense   Goal   \n",
       "\n",
       "  Passer  Receiver Defender  Hang Time (secs)  \n",
       "6   Kens  Kelsey M      NaN               NaN  "
      ]
     },
     "execution_count": 28,
     "metadata": {},
     "output_type": "execute_result"
    }
   ],
   "source": [
    "scoob = huddlers.Scoober(custom_pull.enhanced_export_file)\n",
    "\n",
    "scoob.dataframe[scoob.slice(actions=['Goal'])].head(1)[scoob.dataframe.columns[:12]]"
   ]
  },
  {
   "cell_type": "code",
   "execution_count": 30,
   "metadata": {},
   "outputs": [],
   "source": [
    "hudd = huddlers.Huddler(scoob)"
   ]
  },
  {
   "cell_type": "code",
   "execution_count": 31,
   "metadata": {},
   "outputs": [],
   "source": [
    "hudd.huddle()"
   ]
  },
  {
   "cell_type": "code",
   "execution_count": 32,
   "metadata": {},
   "outputs": [
    {
     "data": {
      "text/plain": [
       "Catch           53\n",
       "Throwaway        7\n",
       "HockeyAssist     7\n",
       "Goal             7\n",
       "Drop             3\n",
       "Name: Action, dtype: int64"
      ]
     },
     "execution_count": 32,
     "metadata": {},
     "output_type": "execute_result"
    }
   ],
   "source": [
    "df = scoob.dataframe\n",
    "df[(df.Passer=='EA')].Action.value_counts()"
   ]
  },
  {
   "cell_type": "code",
   "execution_count": 34,
   "metadata": {},
   "outputs": [
    {
     "data": {
      "text/html": [
       "<div>\n",
       "<style scoped>\n",
       "    .dataframe tbody tr th:only-of-type {\n",
       "        vertical-align: middle;\n",
       "    }\n",
       "\n",
       "    .dataframe tbody tr th {\n",
       "        vertical-align: top;\n",
       "    }\n",
       "\n",
       "    .dataframe thead th {\n",
       "        text-align: right;\n",
       "    }\n",
       "</style>\n",
       "<table border=\"1\" class=\"dataframe\">\n",
       "  <thead>\n",
       "    <tr style=\"text-align: right;\">\n",
       "      <th></th>\n",
       "      <th>Name</th>\n",
       "      <th>Catches</th>\n",
       "      <th>Goals</th>\n",
       "      <th>Assists</th>\n",
       "      <th>Hockey Assists</th>\n",
       "      <th>Drops</th>\n",
       "    </tr>\n",
       "  </thead>\n",
       "  <tbody>\n",
       "    <tr>\n",
       "      <th>0</th>\n",
       "      <td>Claire</td>\n",
       "      <td>36</td>\n",
       "      <td>1.0</td>\n",
       "      <td>1.0</td>\n",
       "      <td>3.0</td>\n",
       "      <td>1.0</td>\n",
       "    </tr>\n",
       "    <tr>\n",
       "      <th>1</th>\n",
       "      <td>Cole</td>\n",
       "      <td>55</td>\n",
       "      <td>9.0</td>\n",
       "      <td>7.0</td>\n",
       "      <td>9.0</td>\n",
       "      <td>2.0</td>\n",
       "    </tr>\n",
       "    <tr>\n",
       "      <th>2</th>\n",
       "      <td>Kelsey M</td>\n",
       "      <td>35</td>\n",
       "      <td>6.0</td>\n",
       "      <td>3.0</td>\n",
       "      <td>3.0</td>\n",
       "      <td>4.0</td>\n",
       "    </tr>\n",
       "    <tr>\n",
       "      <th>3</th>\n",
       "      <td>KelseyK3</td>\n",
       "      <td>35</td>\n",
       "      <td>1.0</td>\n",
       "      <td>2.0</td>\n",
       "      <td>7.0</td>\n",
       "      <td>1.0</td>\n",
       "    </tr>\n",
       "    <tr>\n",
       "      <th>4</th>\n",
       "      <td>Kens</td>\n",
       "      <td>55</td>\n",
       "      <td>1.0</td>\n",
       "      <td>10.0</td>\n",
       "      <td>3.0</td>\n",
       "      <td>1.0</td>\n",
       "    </tr>\n",
       "  </tbody>\n",
       "</table>\n",
       "</div>"
      ],
      "text/plain": [
       "       Name  Catches  Goals  Assists  Hockey Assists  Drops\n",
       "0    Claire       36    1.0      1.0             3.0    1.0\n",
       "1      Cole       55    9.0      7.0             9.0    2.0\n",
       "2  Kelsey M       35    6.0      3.0             3.0    4.0\n",
       "3  KelseyK3       35    1.0      2.0             7.0    1.0\n",
       "4      Kens       55    1.0     10.0             3.0    1.0"
      ]
     },
     "execution_count": 34,
     "metadata": {},
     "output_type": "execute_result"
    }
   ],
   "source": [
    "hudd.player_stats_by_year[['Name','Throws','Completions','Throwaways','Assists',\n",
    "                           'Completion Percentage','Throwaway Percentage','Drop Percentage']].sort_values('Throwaway Percentage')\n",
    "\n",
    "hudd.player_stats_by_year[['Name','Catches','Goals','Assists','Hockey Assists','Drops']].iloc[:5]"
   ]
  },
  {
   "cell_type": "code",
   "execution_count": null,
   "metadata": {},
   "outputs": [],
   "source": []
  },
  {
   "cell_type": "code",
   "execution_count": 13,
   "metadata": {},
   "outputs": [
    {
     "name": "stdout",
     "output_type": "stream",
     "text": [
      "../ultianalyticspull/data/audl/processed/2019/2019_OttawaOutlaws.csv 0\n",
      "../ultianalyticspull/data/audl/processed/2019/2019_MinnesotaWindChill.csv 0\n",
      "../ultianalyticspull/data/audl/processed/2019/2019_DallasRoughnecks.csv 0\n",
      "../ultianalyticspull/data/audl/processed/2019/2019_SanDiegoGrowlers.csv 0\n",
      "../ultianalyticspull/data/audl/processed/2019/2019_AtlantaHustle.csv 0\n",
      "../ultianalyticspull/data/audl/processed/2019/2019_DCBreeze.csv 0\n",
      "../ultianalyticspull/data/audl/processed/2019/2019_PittsburghThunderbirds.csv 0\n",
      "../ultianalyticspull/data/audl/processed/2019/2019_NewYorkEmpire.csv 0\n",
      "../ultianalyticspull/data/audl/processed/2019/2019_AustinSol.csv 0\n",
      "../ultianalyticspull/data/audl/processed/2019/2019_MontrealRoyal.csv 323\n",
      "../ultianalyticspull/data/audl/processed/2019/2019_SanJoseSpiders.csv 0\n",
      "../ultianalyticspull/data/audl/processed/2019/2019_TampaBayCannons.csv 0\n",
      "../ultianalyticspull/data/audl/processed/2019/2019_DetroitMechanix.csv 0\n",
      "../ultianalyticspull/data/audl/processed/2019/2019_MadisonRadicals.csv 0\n",
      "../ultianalyticspull/data/audl/processed/2019/2019_LosAngelesAviators.csv 246\n",
      "../ultianalyticspull/data/audl/processed/2019/2019_TorontoRush.csv 0\n",
      "../ultianalyticspull/data/audl/processed/2019/2019_ChicagoWildfire.csv 0\n",
      "../ultianalyticspull/data/audl/processed/2019/2019_IndianapolisAlleyCats.csv 0\n",
      "../ultianalyticspull/data/audl/processed/2019/2019_SeattleCascades.csv 0\n",
      "../ultianalyticspull/data/audl/processed/2019/2019_RaleighFlyers.csv 0\n",
      "../ultianalyticspull/data/audl/processed/2019/2019_PhiladelphiaPhoenix.csv 0\n"
     ]
    }
   ],
   "source": [
    "import glob\n",
    "\n",
    "for teamfile in glob.glob('../ultianalyticspull/data/audl/processed/2019/*.csv'):\n",
    "    team = huddlers.Scoober(teamfile).dataframe\n",
    "    print(teamfile,len(team['Lateral Distance'].value_counts()))\n"
   ]
  },
  {
   "cell_type": "code",
   "execution_count": 71,
   "metadata": {},
   "outputs": [],
   "source": [
    "# tdf = team.dataframe[['Action','Event Type','Begin Area','Begin X', 'Begin Y', 'End Area', 'End X', 'End Y',\n",
    "#    'Distance Unit of Measure', 'Absolute Distance', 'Lateral Distance',\n",
    "#    'Toward Our Goal Distance']]\n",
    "# tdf[tdf.Action.str.contains('Pull')]#['Begin Area'].value_counts()"
   ]
  },
  {
   "cell_type": "code",
   "execution_count": 2,
   "metadata": {},
   "outputs": [],
   "source": [
    "audl_field_width = 53.33 #yards\n",
    "audl_field_length= 80 #yards\n",
    "audl_endzone_length= 20 #yards\n",
    "\n",
    "team = huddlers.Fury('../../ultianalyticspull/data/audl/processed/2019/2019_LosAngelesAviators.csv',\n",
    "                    'Los Angeles Aviators')\n",
    "\n",
    "# team = huddlers.Fury('../../ultianalyticspull/data/audl/processed/2019/2019_MontrealRoyal.csv',\n",
    "#                     'Montreal Royal')\n",
    "########\n",
    "########\n",
    "area_extra_added_length_dict = {'Field' : audl_endzone_length,\n",
    "                'Endzone A' : 0,\n",
    "                'Endzone B' : audl_endzone_length+audl_field_length}\n",
    "area_length_dict = {'Field' : audl_field_length,\n",
    "                'Endzone A' : audl_endzone_length,\n",
    "                'Endzone B' : audl_endzone_length}\n",
    "import numpy as np\n",
    "def get_absolute_x(x,area):\n",
    "    if x!=x:\n",
    "        return np.nan\n",
    "    return x*area_length_dict[area] + area_extra_added_length_dict[area]\n",
    "\n",
    "def get_absolute_y(y):\n",
    "    if y!=y:\n",
    "        return np.nan\n",
    "    return y*audl_field_width\n",
    "    \n",
    "def get_absolute_postion(row):\n",
    "    row['Begin X Abs'] = get_absolute_x(row['Begin X'],row['Begin Area'])\n",
    "    row['End X Abs'] = get_absolute_x(row['End X'],row['End Area'])\n",
    "    row['Begin Y Abs'] = get_absolute_y(row['Begin Y'])\n",
    "    row['End Y Abs'] = get_absolute_y(row['End Y'])\n",
    "    if row['Toward Our Goal Distance'] == row['Toward Our Goal Distance']:\n",
    "        if row['Toward Our Goal Distance']==0:\n",
    "            sign= 0\n",
    "        else:\n",
    "            sign = (2*int(row['Begin Y Abs'] > row['End Y Abs'])-1)*(2*int(row['Begin X Abs'] > row['End X Abs'])-1)*(row['Toward Our Goal Distance']/abs(row['Toward Our Goal Distance']))\n",
    "    else:\n",
    "        sign = np.nan\n",
    "    row['LR Distance'] = row['Lateral Distance']*sign\n",
    "        \n",
    "    return row\n",
    "\n",
    "team.dataframe = team.dataframe.apply(get_absolute_postion,axis=1)\n",
    "########\n",
    "\n"
   ]
  },
  {
   "cell_type": "code",
   "execution_count": 19,
   "metadata": {},
   "outputs": [],
   "source": [
    "import matplotlib.pyplot as plt\n",
    "import matplotlib.pyplot as plt\n",
    "from matplotlib.collections import PatchCollection\n",
    "from matplotlib.path import Path\n",
    "from matplotlib.patches import PathPatch\n",
    "\n",
    "def sized_hexbin(ax,hc):\n",
    "    offsets = hc.get_offsets()\n",
    "    orgpath = hc.get_paths()[0]\n",
    "    verts = orgpath.vertices\n",
    "    values = hc.get_array()\n",
    "    ma = values.max()\n",
    "    patches = []\n",
    "    for offset,val in zip(offsets,values):\n",
    "        v1 = verts*val/ma+offset\n",
    "        path = Path(v1, orgpath.codes)\n",
    "        patch = PathPatch(path)\n",
    "        patches.append(patch)\n",
    "\n",
    "    pc = PatchCollection(patches)\n",
    "    pc.set_array(values)\n",
    "    ax.add_collection(pc)\n",
    "    hc.remove()\n",
    "\n",
    "\n",
    "\n",
    "def get_shot_chart(df,filename : str=None):\n",
    "    fig,ax=plt.subplots(1,1)\n",
    "    hexbin = ax.hexbin(df['LR Distance'], df['Toward Our Goal Distance'],\n",
    "              edgecolors='k',alpha=1, gridsize=(10,10),extent=(-40,40,-15,80),\n",
    "             linewidths=0)\n",
    "    sized_hexbin(ax,hexbin)\n",
    "    if filename:\n",
    "        fig.savefig(filename)\n",
    "        plt.close()"
   ]
  },
  {
   "cell_type": "code",
   "execution_count": 9,
   "metadata": {},
   "outputs": [],
   "source": [
    "for player in huddlers.get_players(team.dataframe):\n",
    "    if player not in ['?','Anonymous']:\n",
    "        player_df = team.dataframe[team.offense_slice(player=player)]\n",
    "        get_shot_chart(player_df[(player_df.Passer==player)&(player_df['Toward Our Goal Distance']>-50)].copy(),\n",
    "                      f\"{team.team}_{player}.png\".replace(\" \", \"\"))"
   ]
  },
  {
   "cell_type": "code",
   "execution_count": 20,
   "metadata": {},
   "outputs": [
    {
     "data": {
      "image/png": "[encoded data removed]",
      "text/plain": [
       "<Figure size 432x288 with 1 Axes>"
      ]
     },
     "metadata": {
      "needs_background": "light"
     },
     "output_type": "display_data"
    }
   ],
   "source": [
    "df=team.dataframe[team.offense_slice()]\n",
    "get_shot_chart(df[(df['Toward Our Goal Distance']>-50)].copy())"
   ]
  },
  {
   "cell_type": "code",
   "execution_count": null,
   "metadata": {},
   "outputs": [],
   "source": [
    "# # Score Keeper fucked up the pull Endzone\n",
    "# team.dataframe.iloc[1170:1180][['Event Type','Action','Passer','Receiver','Defender','Begin Area', 'Begin X', 'Begin Y', 'End Area', 'End X', 'End Y',\n",
    "#        'Distance Unit of Measure', 'Absolute Distance', 'Lateral Distance',\n",
    "#        'Toward Our Goal Distance', ]]"
   ]
  },
  {
   "cell_type": "code",
   "execution_count": 94,
   "metadata": {},
   "outputs": [],
   "source": []
  },
  {
   "cell_type": "code",
   "execution_count": 20,
   "metadata": {},
   "outputs": [],
   "source": [
    "MattSmith = huddlers.Beau('../ultianalyticspull/data/audl/processed/2019/2019_AtlantaHustle.csv', 'Matt Smith')\n",
    "# MattSmith.dataframe"
   ]
  },
  {
   "cell_type": "code",
   "execution_count": null,
   "metadata": {},
   "outputs": [],
   "source": []
  }
 ],
 "metadata": {
  "kernelspec": {
   "display_name": "Python 3",
   "language": "python",
   "name": "python3"
  },
  "language_info": {
   "codemirror_mode": {
    "name": "ipython",
    "version": 3
   },
   "file_extension": ".py",
   "mimetype": "text/x-python",
   "name": "python",
   "nbconvert_exporter": "python",
   "pygments_lexer": "ipython3",
   "version": "3.7.3"
  }
 },
 "nbformat": 4,
 "nbformat_minor": 4
}
