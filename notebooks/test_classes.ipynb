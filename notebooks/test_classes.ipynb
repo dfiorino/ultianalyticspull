{
 "cells": [
  {
   "cell_type": "code",
   "execution_count": 1,
   "metadata": {},
   "outputs": [],
   "source": [
    "import sys\n",
    "sys.path.append('../')\n",
    "import pullers"
   ]
  },
  {
   "cell_type": "markdown",
   "metadata": {},
   "source": [
    "# Investigate the Pro Leagues"
   ]
  },
  {
   "cell_type": "markdown",
   "metadata": {},
   "source": [
    "## PUL"
   ]
  },
  {
   "cell_type": "code",
   "execution_count": 2,
   "metadata": {},
   "outputs": [],
   "source": [
    "pul_pull = pullers.LeaguePuller('pul')"
   ]
  },
  {
   "cell_type": "code",
   "execution_count": 3,
   "metadata": {},
   "outputs": [],
   "source": [
    "pul_pull.set_current_year()"
   ]
  },
  {
   "cell_type": "code",
   "execution_count": 4,
   "metadata": {},
   "outputs": [
    {
     "data": {
      "text/plain": [
       "[2019]"
      ]
     },
     "execution_count": 4,
     "metadata": {},
     "output_type": "execute_result"
    }
   ],
   "source": [
    "pul_pull.years"
   ]
  },
  {
   "cell_type": "code",
   "execution_count": 5,
   "metadata": {},
   "outputs": [
    {
     "name": "stdout",
     "output_type": "stream",
     "text": [
      "2019 Atlanta Soul\n",
      "2019 Austin Torch\n",
      "2019 Columbus Pride\n",
      "2019 Indy Red\n",
      "2019 Medellin Revolution\n",
      "2019 Nashville Nightshade\n",
      "2019 New York Gridlock\n",
      "2019 Raleigh Radiance\n"
     ]
    }
   ],
   "source": [
    "pul_pull.pull()"
   ]
  },
  {
   "cell_type": "markdown",
   "metadata": {},
   "source": [
    "## AUDL"
   ]
  },
  {
   "cell_type": "code",
   "execution_count": 6,
   "metadata": {},
   "outputs": [],
   "source": [
    "audl_pull = pullers.LeaguePuller('audl')"
   ]
  },
  {
   "cell_type": "code",
   "execution_count": 7,
   "metadata": {},
   "outputs": [],
   "source": [
    "audl_pull.set_current_year()"
   ]
  },
  {
   "cell_type": "code",
   "execution_count": null,
   "metadata": {},
   "outputs": [
    {
     "name": "stdout",
     "output_type": "stream",
     "text": [
      "2019 Atlanta Hustle\n",
      "2019 Austin Sol\n",
      "2019 Chicago Wildfire\n",
      "2019 DC Breeze\n",
      "2019 Dallas Roughnecks\n",
      "2019 Detroit Mechanix\n",
      "2019 Indianapolis AlleyCats\n",
      "2019 Los Angeles Aviators\n",
      "2019 Madison Radicals\n",
      "2019 Minnesota Wind Chill\n",
      "2019 Montreal Royal\n"
     ]
    }
   ],
   "source": [
    "audl_pull.pull()"
   ]
  },
  {
   "cell_type": "markdown",
   "metadata": {},
   "source": [
    "# Investigate your own team!"
   ]
  },
  {
   "cell_type": "code",
   "execution_count": 6,
   "metadata": {},
   "outputs": [],
   "source": [
    "team_number='6502443586158592'\n",
    "team_name='U24'\n",
    "year=2019\n",
    "output_dir='/Users/fiorino/Downloads/'\n",
    "u24pull = pullers.UltiAnalyticsPuller(team_number,team_name,year,output_dir)\n",
    "u24pull.pull()"
   ]
  },
  {
   "cell_type": "code",
   "execution_count": 7,
   "metadata": {},
   "outputs": [],
   "source": [
    "u24pull_df = u24pull.get_enhanced_dataframe()"
   ]
  },
  {
   "cell_type": "code",
   "execution_count": 8,
   "metadata": {},
   "outputs": [
    {
     "data": {
      "text/plain": [
       "Pohleong    2\n",
       "Isaac       1\n",
       "Kendrick    1\n",
       "Syaf        1\n",
       "Axel        1\n",
       "Name: Passer, dtype: int64"
      ]
     },
     "execution_count": 8,
     "metadata": {},
     "output_type": "execute_result"
    }
   ],
   "source": [
    "u24pull_df[(u24pull_df.Action=='Goal')].Passer.value_counts()"
   ]
  },
  {
   "cell_type": "code",
   "execution_count": 9,
   "metadata": {},
   "outputs": [
    {
     "data": {
      "text/plain": [
       "Shi Kai     2\n",
       "Pohleong    1\n",
       "Wei Yi      1\n",
       "Kim         1\n",
       "Sixuan      1\n",
       "Name: Receiver, dtype: int64"
      ]
     },
     "execution_count": 9,
     "metadata": {},
     "output_type": "execute_result"
    }
   ],
   "source": [
    "u24pull_df[(u24pull_df.Action=='Goal')].Receiver.value_counts()"
   ]
  },
  {
   "cell_type": "code",
   "execution_count": 10,
   "metadata": {},
   "outputs": [
    {
     "data": {
      "text/plain": [
       "Isaac       1\n",
       "Pohleong    1\n",
       "Jerald      1\n",
       "Name: Defender, dtype: int64"
      ]
     },
     "execution_count": 10,
     "metadata": {},
     "output_type": "execute_result"
    }
   ],
   "source": [
    "u24pull_df[(u24pull_df.Action=='D')].Defender.value_counts()"
   ]
  },
  {
   "cell_type": "code",
   "execution_count": 11,
   "metadata": {},
   "outputs": [
    {
     "data": {
      "text/plain": [
       "8"
      ]
     },
     "execution_count": 11,
     "metadata": {},
     "output_type": "execute_result"
    }
   ],
   "source": [
    "u24pull_df[u24pull_df.Lineup.str.contains('Glenna')].groupby(['GameID','PointID']).ngroups"
   ]
  },
  {
   "cell_type": "code",
   "execution_count": 12,
   "metadata": {},
   "outputs": [
    {
     "data": {
      "text/plain": [
       "Sixuan    1\n",
       "Name: Receiver, dtype: int64"
      ]
     },
     "execution_count": 12,
     "metadata": {},
     "output_type": "execute_result"
    }
   ],
   "source": [
    "u24pull_df[(u24pull_df.Passer=='Kendrick')&(u24pull_df.Action=='Goal')].Receiver.value_counts()"
   ]
  },
  {
   "cell_type": "code",
   "execution_count": null,
   "metadata": {},
   "outputs": [],
   "source": []
  }
 ],
 "metadata": {
  "kernelspec": {
   "display_name": "Python 3",
   "language": "python",
   "name": "python3"
  },
  "language_info": {
   "codemirror_mode": {
    "name": "ipython",
    "version": 3
   },
   "file_extension": ".py",
   "mimetype": "text/x-python",
   "name": "python",
   "nbconvert_exporter": "python",
   "pygments_lexer": "ipython3",
   "version": "3.7.3"
  }
 },
 "nbformat": 4,
 "nbformat_minor": 4
}
