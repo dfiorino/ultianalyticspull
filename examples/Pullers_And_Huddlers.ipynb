{
 "cells": [
  {
   "cell_type": "code",
   "execution_count": 1,
   "metadata": {},
   "outputs": [],
   "source": [
    "!export PYTHONPATH=\"/Users/fiorino/anaconda3/envs/ultimate/lib/python3.7/site-packages/\"\n",
    "\n",
    "from ultianalyticspull import pullers\n",
    "from ultianalyticspull import huddlers"
   ]
  },
  {
   "cell_type": "markdown",
   "metadata": {},
   "source": [
    "# Investigate the Pro Leagues"
   ]
  },
  {
   "cell_type": "markdown",
   "metadata": {},
   "source": [
    "## PUL"
   ]
  },
  {
   "cell_type": "code",
   "execution_count": 2,
   "metadata": {},
   "outputs": [],
   "source": [
    "pul_pull = pullers.LeaguePuller(league = 'pul', years=[2019])"
   ]
  },
  {
   "cell_type": "code",
   "execution_count": 3,
   "metadata": {},
   "outputs": [
    {
     "name": "stdout",
     "output_type": "stream",
     "text": [
      "2019 Atlanta Soul\n",
      "2019 Austin Torch\n",
      "2019 Columbus Pride\n",
      "2019 Indy Red\n",
      "2019 Medellin Revolution\n",
      "2019 Nashville Nightshade\n",
      "2019 New York Gridlock\n",
      "2019 Raleigh Radiance\n"
     ]
    }
   ],
   "source": [
    "pul_pull.pull()"
   ]
  },
  {
   "cell_type": "markdown",
   "metadata": {},
   "source": [
    "## AUDL"
   ]
  },
  {
   "cell_type": "code",
   "execution_count": 7,
   "metadata": {},
   "outputs": [],
   "source": [
    "audl_pull = pullers.LeaguePuller(league = 'audl', years=range(2014,2020))"
   ]
  },
  {
   "cell_type": "code",
   "execution_count": 10,
   "metadata": {},
   "outputs": [],
   "source": [
    "audl_pull.pull()"
   ]
  },
  {
   "cell_type": "markdown",
   "metadata": {},
   "source": [
    "# Investigate your own team!"
   ]
  },
  {
   "cell_type": "code",
   "execution_count": 18,
   "metadata": {},
   "outputs": [],
   "source": [
    "team_number='6305900843237376'\n",
    "team_name='MSP'\n",
    "year=2019\n",
    "output_dir='./'\n",
    "custom_pull = pullers.UltiAnalyticsPuller(team_number,team_name,year,output_dir)\n",
    "custom_pull.pull()"
   ]
  },
  {
   "cell_type": "code",
   "execution_count": 19,
   "metadata": {},
   "outputs": [],
   "source": [
    "custom_pull_df = custom_pull.get_enhanced_dataframe()"
   ]
  },
  {
   "cell_type": "code",
   "execution_count": 20,
   "metadata": {},
   "outputs": [
    {
     "data": {
      "text/plain": [
       "Tristan    23\n",
       "Roske      19\n",
       "Kens       10\n",
       "Ruda        9\n",
       "Brad        8\n",
       "Name: Passer, dtype: int64"
      ]
     },
     "execution_count": 20,
     "metadata": {},
     "output_type": "execute_result"
    }
   ],
   "source": [
    "custom_pull_df[(custom_pull_df.Action=='Goal')].Passer.value_counts()[:5]"
   ]
  },
  {
   "cell_type": "code",
   "execution_count": 22,
   "metadata": {},
   "outputs": [
    {
     "data": {
      "text/plain": [
       "Brad     16\n",
       "Dani     11\n",
       "Mo       10\n",
       "Roske     9\n",
       "EA        9\n",
       "Name: Receiver, dtype: int64"
      ]
     },
     "execution_count": 22,
     "metadata": {},
     "output_type": "execute_result"
    }
   ],
   "source": [
    "custom_pull_df[(custom_pull_df.Action=='Goal')].Receiver.value_counts()[:5]"
   ]
  },
  {
   "cell_type": "code",
   "execution_count": 24,
   "metadata": {},
   "outputs": [
    {
     "data": {
      "text/plain": [
       "Tristan    16\n",
       "Tanner     10\n",
       "Joe         8\n",
       "Bo          7\n",
       "Mo          6\n",
       "Name: Defender, dtype: int64"
      ]
     },
     "execution_count": 24,
     "metadata": {},
     "output_type": "execute_result"
    }
   ],
   "source": [
    "custom_pull_df[(custom_pull_df.Action=='D')].Defender.value_counts()[:5]"
   ]
  },
  {
   "cell_type": "code",
   "execution_count": 25,
   "metadata": {},
   "outputs": [
    {
     "data": {
      "text/plain": [
       "69"
      ]
     },
     "execution_count": 25,
     "metadata": {},
     "output_type": "execute_result"
    }
   ],
   "source": [
    "custom_pull_df[custom_pull_df.Lineup.str.contains('EA')].groupby(['GameID','PointID']).ngroups"
   ]
  },
  {
   "cell_type": "code",
   "execution_count": 26,
   "metadata": {},
   "outputs": [
    {
     "data": {
      "text/plain": [
       "Brad     6\n",
       "Roske    3\n",
       "Vandy    3\n",
       "Bekah    3\n",
       "Max      1\n",
       "Name: Receiver, dtype: int64"
      ]
     },
     "execution_count": 26,
     "metadata": {},
     "output_type": "execute_result"
    }
   ],
   "source": [
    "custom_pull_df[(custom_pull_df.Passer=='Tristan')&(custom_pull_df.Action=='Goal')].Receiver.value_counts()[:5]"
   ]
  },
  {
   "cell_type": "markdown",
   "metadata": {},
   "source": [
    "## Compile aggregate stats with the Huddler"
   ]
  },
  {
   "cell_type": "code",
   "execution_count": 28,
   "metadata": {},
   "outputs": [
    {
     "data": {
      "text/html": [
       "<div>\n",
       "<style scoped>\n",
       "    .dataframe tbody tr th:only-of-type {\n",
       "        vertical-align: middle;\n",
       "    }\n",
       "\n",
       "    .dataframe tbody tr th {\n",
       "        vertical-align: top;\n",
       "    }\n",
       "\n",
       "    .dataframe thead th {\n",
       "        text-align: right;\n",
       "    }\n",
       "</style>\n",
       "<table border=\"1\" class=\"dataframe\">\n",
       "  <thead>\n",
       "    <tr style=\"text-align: right;\">\n",
       "      <th></th>\n",
       "      <th>Date/Time</th>\n",
       "      <th>Opponent</th>\n",
       "      <th>Point Elapsed Seconds</th>\n",
       "      <th>Line</th>\n",
       "      <th>Our Score - End of Point</th>\n",
       "      <th>Their Score - End of Point</th>\n",
       "      <th>Event Type</th>\n",
       "      <th>Action</th>\n",
       "      <th>Passer</th>\n",
       "      <th>Receiver</th>\n",
       "      <th>Defender</th>\n",
       "      <th>Hang Time (secs)</th>\n",
       "    </tr>\n",
       "  </thead>\n",
       "  <tbody>\n",
       "    <tr>\n",
       "      <th>6</th>\n",
       "      <td>2019-06-22 08:52</td>\n",
       "      <td>Rust</td>\n",
       "      <td>150</td>\n",
       "      <td>D</td>\n",
       "      <td>1</td>\n",
       "      <td>0</td>\n",
       "      <td>Offense</td>\n",
       "      <td>Goal</td>\n",
       "      <td>Kens</td>\n",
       "      <td>Kelsey M</td>\n",
       "      <td>NaN</td>\n",
       "      <td>NaN</td>\n",
       "    </tr>\n",
       "  </tbody>\n",
       "</table>\n",
       "</div>"
      ],
      "text/plain": [
       "          Date/Time Opponent  Point Elapsed Seconds Line  \\\n",
       "6  2019-06-22 08:52     Rust                    150    D   \n",
       "\n",
       "   Our Score - End of Point  Their Score - End of Point Event Type Action  \\\n",
       "6                         1                           0    Offense   Goal   \n",
       "\n",
       "  Passer  Receiver Defender  Hang Time (secs)  \n",
       "6   Kens  Kelsey M      NaN               NaN  "
      ]
     },
     "execution_count": 28,
     "metadata": {},
     "output_type": "execute_result"
    }
   ],
   "source": [
    "scoob = huddlers.Scoober(custom_pull.enhanced_export_file)\n",
    "\n",
    "scoob.dataframe[scoob.slice(actions=['Goal'])].head(1)[scoob.dataframe.columns[:12]]"
   ]
  },
  {
   "cell_type": "code",
   "execution_count": 30,
   "metadata": {},
   "outputs": [],
   "source": [
    "hudd = huddlers.Huddler(scoob)"
   ]
  },
  {
   "cell_type": "code",
   "execution_count": 31,
   "metadata": {},
   "outputs": [],
   "source": [
    "hudd.huddle()"
   ]
  },
  {
   "cell_type": "code",
   "execution_count": 32,
   "metadata": {},
   "outputs": [
    {
     "data": {
      "text/plain": [
       "Catch           53\n",
       "Throwaway        7\n",
       "HockeyAssist     7\n",
       "Goal             7\n",
       "Drop             3\n",
       "Name: Action, dtype: int64"
      ]
     },
     "execution_count": 32,
     "metadata": {},
     "output_type": "execute_result"
    }
   ],
   "source": [
    "df = scoob.dataframe\n",
    "df[(df.Passer=='EA')].Action.value_counts()"
   ]
  },
  {
   "cell_type": "code",
   "execution_count": 34,
   "metadata": {},
   "outputs": [
    {
     "data": {
      "text/html": [
       "<div>\n",
       "<style scoped>\n",
       "    .dataframe tbody tr th:only-of-type {\n",
       "        vertical-align: middle;\n",
       "    }\n",
       "\n",
       "    .dataframe tbody tr th {\n",
       "        vertical-align: top;\n",
       "    }\n",
       "\n",
       "    .dataframe thead th {\n",
       "        text-align: right;\n",
       "    }\n",
       "</style>\n",
       "<table border=\"1\" class=\"dataframe\">\n",
       "  <thead>\n",
       "    <tr style=\"text-align: right;\">\n",
       "      <th></th>\n",
       "      <th>Name</th>\n",
       "      <th>Catches</th>\n",
       "      <th>Goals</th>\n",
       "      <th>Assists</th>\n",
       "      <th>Hockey Assists</th>\n",
       "      <th>Drops</th>\n",
       "    </tr>\n",
       "  </thead>\n",
       "  <tbody>\n",
       "    <tr>\n",
       "      <th>0</th>\n",
       "      <td>Claire</td>\n",
       "      <td>36</td>\n",
       "      <td>1.0</td>\n",
       "      <td>1.0</td>\n",
       "      <td>3.0</td>\n",
       "      <td>1.0</td>\n",
       "    </tr>\n",
       "    <tr>\n",
       "      <th>1</th>\n",
       "      <td>Cole</td>\n",
       "      <td>55</td>\n",
       "      <td>9.0</td>\n",
       "      <td>7.0</td>\n",
       "      <td>9.0</td>\n",
       "      <td>2.0</td>\n",
       "    </tr>\n",
       "    <tr>\n",
       "      <th>2</th>\n",
       "      <td>Kelsey M</td>\n",
       "      <td>35</td>\n",
       "      <td>6.0</td>\n",
       "      <td>3.0</td>\n",
       "      <td>3.0</td>\n",
       "      <td>4.0</td>\n",
       "    </tr>\n",
       "    <tr>\n",
       "      <th>3</th>\n",
       "      <td>KelseyK3</td>\n",
       "      <td>35</td>\n",
       "      <td>1.0</td>\n",
       "      <td>2.0</td>\n",
       "      <td>7.0</td>\n",
       "      <td>1.0</td>\n",
       "    </tr>\n",
       "    <tr>\n",
       "      <th>4</th>\n",
       "      <td>Kens</td>\n",
       "      <td>55</td>\n",
       "      <td>1.0</td>\n",
       "      <td>10.0</td>\n",
       "      <td>3.0</td>\n",
       "      <td>1.0</td>\n",
       "    </tr>\n",
       "  </tbody>\n",
       "</table>\n",
       "</div>"
      ],
      "text/plain": [
       "       Name  Catches  Goals  Assists  Hockey Assists  Drops\n",
       "0    Claire       36    1.0      1.0             3.0    1.0\n",
       "1      Cole       55    9.0      7.0             9.0    2.0\n",
       "2  Kelsey M       35    6.0      3.0             3.0    4.0\n",
       "3  KelseyK3       35    1.0      2.0             7.0    1.0\n",
       "4      Kens       55    1.0     10.0             3.0    1.0"
      ]
     },
     "execution_count": 34,
     "metadata": {},
     "output_type": "execute_result"
    }
   ],
   "source": [
    "hudd.player_stats_by_year[['Name','Throws','Completions','Throwaways','Assists',\n",
    "                           'Completion Percentage','Throwaway Percentage','Drop Percentage']].sort_values('Throwaway Percentage')\n",
    "\n",
    "hudd.player_stats_by_year[['Name','Catches','Goals','Assists','Hockey Assists','Drops']].iloc[:5]"
   ]
  }
 ],
 "metadata": {
  "kernelspec": {
   "display_name": "Python 3",
   "language": "python",
   "name": "python3"
  },
  "language_info": {
   "codemirror_mode": {
    "name": "ipython",
    "version": 3
   },
   "file_extension": ".py",
   "mimetype": "text/x-python",
   "name": "python",
   "nbconvert_exporter": "python",
   "pygments_lexer": "ipython3",
   "version": "3.7.4"
  }
 },
 "nbformat": 4,
 "nbformat_minor": 4
}
